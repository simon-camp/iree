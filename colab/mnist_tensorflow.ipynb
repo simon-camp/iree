{
  "nbformat": 4,
  "nbformat_minor": 0,
  "metadata": {
    "colab": {
      "name": "mnist_tensorflow.ipynb",
      "provenance": [],
      "collapsed_sections": []
    },
    "kernelspec": {
      "display_name": "Python 3",
      "name": "python3"
    }
  },
  "cells": [
    {
      "cell_type": "markdown",
      "metadata": {
        "id": "PZtRtMMUZHJS"
      },
      "source": [
        "##### Copyright 2020 Google LLC.\n",
        "\n",
        "Licensed under the Apache License, Version 2.0 (the \"License\");"
      ]
    },
    {
      "cell_type": "code",
      "metadata": {
        "cellView": "form",
        "id": "TouZL3JZZSQe"
      },
      "source": [
        "#@title License header\n",
        "# Copyright 2020 Google LLC\n",
        "#\n",
        "# Licensed under the Apache License, Version 2.0 (the \"License\");\n",
        "# you may not use this file except in compliance with the License.\n",
        "# You may obtain a copy of the License at\n",
        "#\n",
        "#      https://www.apache.org/licenses/LICENSE-2.0\n",
        "#\n",
        "# Unless required by applicable law or agreed to in writing, software\n",
        "# distributed under the License is distributed on an \"AS IS\" BASIS,\n",
        "# WITHOUT WARRANTIES OR CONDITIONS OF ANY KIND, either express or implied.\n",
        "# See the License for the specific language governing permissions and\n",
        "# limitations under the License."
      ],
      "execution_count": 1,
      "outputs": []
    },
    {
      "cell_type": "markdown",
      "metadata": {
        "id": "O6c3qfq5Zv57"
      },
      "source": [
        "# MNIST Model TensorFlow Training, IREE Execution\n",
        "\n",
        "## Overview\n",
        "\n",
        "This notebook creates and trains a TensorFlow 2.0 model for recognizing handwritten digits using the [MNIST dataset](https://en.wikipedia.org/wiki/MNIST_database), then compiles and executes that trained model using IREE.\n",
        "\n",
        "## Running Locally\n",
        "\n",
        "*  Refer to [using_colab.md](https://google.github.io/iree/using-iree/using-colab) for general information\n",
        "*  Ensure that you have a recent version of TensorFlow 2.0 [installed on your system](https://www.tensorflow.org/install)\n",
        "*  Enable IREE/TF integration by adding to your user.bazelrc: `build --define=iree_tensorflow=true`\n",
        "*  Start colab by running `python colab/start_colab_kernel.py` (see that file for additional instructions)\n",
        "*  Note: you may need to restart your runtime in order to re-run certain cells. Some of the APIs are not yet stable enough for repeated invocations"
      ]
    },
    {
      "cell_type": "code",
      "metadata": {
        "cellView": "both",
        "id": "EPF7RGQDYK-M",
        "outputId": "524db42f-b1d0-4f26-c911-3dc32bb19ba0",
        "colab": {
          "base_uri": "https://localhost:8080/",
          "height": 68
        }
      },
      "source": [
        "#@title Imports and Setup\n",
        "\n",
        "from pyiree import rt as ireert\n",
        "from pyiree.tf import compiler as ireec\n",
        "from pyiree.tf.support import module_utils\n",
        "\n",
        "from matplotlib import pyplot as plt\n",
        "import numpy as np\n",
        "import os\n",
        "import tempfile\n",
        "import tensorflow as tf\n",
        "\n",
        "ARTIFACTS_DIR = os.path.join(tempfile.gettempdir(), 'iree', 'modules')\n",
        "print(\"Artifacts directory is: \", ARTIFACTS_DIR)\n",
        "\n",
        "plt.style.use(\"seaborn-whitegrid\")\n",
        "plt.rcParams[\"font.family\"] = \"monospace\"\n",
        "\n",
        "# Print version information for future notebook users to reference.\n",
        "print(\"TensorFlow version: \", tf.__version__)\n",
        "print(\"Numpy version: \", np.__version__)"
      ],
      "execution_count": 2,
      "outputs": [
        {
          "output_type": "stream",
          "text": [
            "Artifacts directory is:  C:\\Users\\Scott\\AppData\\Local\\Temp\\iree\\modules\n",
            "TensorFlow version:  2.5.0-dev20200626\n",
            "Numpy version:  1.18.4\n"
          ],
          "name": "stdout"
        }
      ]
    },
    {
      "cell_type": "markdown",
      "metadata": {
        "id": "5vkQOMOMbXdy"
      },
      "source": [
        "# Create and Train MNIST Model in TensorFlow\n",
        "\n",
        "The specific details of the training process here aren't critical to the model compilation and execution through IREE."
      ]
    },
    {
      "cell_type": "code",
      "metadata": {
        "cellView": "both",
        "id": "XPo8ATGqqZbW",
        "outputId": "acfd2492-a7c5-484a-e9af-7d1a58579dc2",
        "colab": {
          "base_uri": "https://localhost:8080/",
          "height": 314
        }
      },
      "source": [
        "#@title Load MNIST dataset, setup training and evaluation\n",
        "\n",
        "# Keras datasets don't provide metadata.\n",
        "NUM_CLASSES = 10\n",
        "NUM_ROWS, NUM_COLS = 28, 28\n",
        "\n",
        "(x_train, y_train), (x_test, y_test) = tf.keras.datasets.mnist.load_data()\n",
        "\n",
        "# Reshape into grayscale images:\n",
        "x_train = np.reshape(x_train, (-1, NUM_ROWS, NUM_COLS, 1))\n",
        "x_test = np.reshape(x_test, (-1, NUM_ROWS, NUM_COLS, 1))\n",
        "\n",
        "# Rescale uint8 pixel values into floats:\n",
        "x_train = x_train / 255\n",
        "x_test = x_test / 255\n",
        "\n",
        "# Explicitly cast to float32 because numpy defaults to double precision and\n",
        "# IREE uses single precision:\n",
        "x_train = x_train.astype(np.float32)\n",
        "x_test = x_test.astype(np.float32)\n",
        "\n",
        "print(\"Sample image from the dataset:\")\n",
        "sample_index = np.random.randint(x_train.shape[0])\n",
        "plt.imshow(x_train[sample_index].reshape(NUM_ROWS, NUM_COLS), cmap=\"gray\")\n",
        "plt.title(f\"Sample #{sample_index}, label: {y_train[sample_index]}\")\n",
        "plt.axis(\"off\")\n",
        "plt.tight_layout()"
      ],
      "execution_count": 3,
      "outputs": [
        {
          "output_type": "stream",
          "text": [
            "Sample image from the dataset:\n"
          ],
          "name": "stdout"
        },
        {
          "output_type": "display_data",
          "data": {
            "text/plain": [
              "<Figure size 432x288 with 1 Axes>"
            ],
            "image/png": "[encoded data removed]"
          },
          "metadata": {
            "tags": []
          }
        }
      ]
    },
    {
      "cell_type": "code",
      "metadata": {
        "cellView": "both",
        "id": "tHq96SIJcNfx"
      },
      "source": [
        "#@title Define a DNN model using tf.keras API\n",
        "\n",
        "def simple_dnn(num_classes):\n",
        "  \"\"\"Creates a simple multi-layer perceptron model.\"\"\"\n",
        "\n",
        "  model = tf.keras.models.Sequential()\n",
        "  # Flatten to a 1d array (e.g. 28x28x1 -> 784).\n",
        "  model.add(tf.keras.layers.Flatten())\n",
        "  # Fully-connected neural layer with 128 neurons, RELU activation.\n",
        "  model.add(tf.keras.layers.Dense(128, activation=\"relu\"))\n",
        "  # Fully-connected neural layer returning probability scores for each class.\n",
        "  model.add(tf.keras.layers.Dense(num_classes, activation=\"softmax\"))\n",
        "  return model"
      ],
      "execution_count": 4,
      "outputs": []
    },
    {
      "cell_type": "code",
      "metadata": {
        "cellView": "both",
        "id": "43BH_9YcsGs8"
      },
      "source": [
        "#@markdown ### Training Parameters\n",
        "\n",
        "batch_size = 32  #@param { type: \"slider\", min: 10, max: 400 }\n",
        "num_epochs = 8    #@param { type: \"slider\", min:  1, max:  20 }"
      ],
      "execution_count": 5,
      "outputs": []
    },
    {
      "cell_type": "code",
      "metadata": {
        "cellView": "both",
        "id": "7Gdxh7qWcPSO",
        "outputId": "4017f6c9-9ca0-4e72-dc8a-104465231644",
        "colab": {
          "base_uri": "https://localhost:8080/",
          "height": 306
        }
      },
      "source": [
        "#@title Train the Keras model\n",
        "\n",
        "tf_model = simple_dnn(NUM_CLASSES)\n",
        "# Stateful optimizers like Adam create variable incompatible with compilation as\n",
        "# currently implemented.\n",
        "tf_model.compile(\n",
        "    optimizer=\"sgd\", loss=\"sparse_categorical_crossentropy\", metrics=\"accuracy\")\n",
        "tf_model.fit(x_train, y_train, batch_size, num_epochs, validation_split=0.1)"
      ],
      "execution_count": 6,
      "outputs": [
        {
          "output_type": "stream",
          "text": [
            "Epoch 1/8\n",
            "1688/1688 [==============================] - 1s 657us/step - loss: 0.6559 - accuracy: 0.8389 - val_loss: 0.3182 - val_accuracy: 0.9182\n",
            "Epoch 2/8\n",
            "1688/1688 [==============================] - 1s 542us/step - loss: 0.3476 - accuracy: 0.9031 - val_loss: 0.2620 - val_accuracy: 0.9287\n",
            "Epoch 3/8\n",
            "1688/1688 [==============================] - 1s 539us/step - loss: 0.2992 - accuracy: 0.9163 - val_loss: 0.2299 - val_accuracy: 0.9368\n",
            "Epoch 4/8\n",
            "1688/1688 [==============================] - 1s 542us/step - loss: 0.2687 - accuracy: 0.9249 - val_loss: 0.2095 - val_accuracy: 0.9428\n",
            "Epoch 5/8\n",
            "1688/1688 [==============================] - 1s 541us/step - loss: 0.2456 - accuracy: 0.9308 - val_loss: 0.1965 - val_accuracy: 0.9423\n",
            "Epoch 6/8\n",
            "1688/1688 [==============================] - 1s 538us/step - loss: 0.2269 - accuracy: 0.9362 - val_loss: 0.1806 - val_accuracy: 0.9500\n",
            "Epoch 7/8\n",
            "1688/1688 [==============================] - 1s 542us/step - loss: 0.2106 - accuracy: 0.9409 - val_loss: 0.1685 - val_accuracy: 0.9548\n",
            "Epoch 8/8\n",
            "1688/1688 [==============================] - 1s 545us/step - loss: 0.1971 - accuracy: 0.9444 - val_loss: 0.1601 - val_accuracy: 0.9588\n"
          ],
          "name": "stdout"
        },
        {
          "output_type": "execute_result",
          "data": {
            "text/plain": [
              "<tensorflow.python.keras.callbacks.History at 0x15e010aac40>"
            ]
          },
          "metadata": {
            "tags": []
          },
          "execution_count": 6
        }
      ]
    },
    {
      "cell_type": "markdown",
      "metadata": {
        "id": "nZdVUd_dgTtc"
      },
      "source": [
        "# Compile and Execute MNIST Model using IREE"
      ]
    },
    {
      "cell_type": "code",
      "metadata": {
        "id": "DmespEaFcSEL"
      },
      "source": [
        "#@title Wrap the model in a tf.Module with IREE-compatible settings and convert to MLIR.\n",
        "\n",
        "# Since the model was written in sequential style, explicitly wrap in a module.\n",
        "inference_module = tf.Module()\n",
        "inference_module.model = tf_model\n",
        "\n",
        "# Hack: Convert to static shape. Won't be necessary once dynamic shapes are in.\n",
        "input_shape = list(tf_model.inputs[0].shape)\n",
        "input_shape[0] = 1  # Make fixed (batch=1)\n",
        "\n",
        "# Produce a concrete function to compile.\n",
        "inference_module.predict = tf.function(input_signature=[\n",
        "    tf.TensorSpec(input_shape, tf_model.inputs[0].dtype)\n",
        "])(lambda x: tf_model.call(x, training=False))\n",
        "\n",
        "# Only try to compile the function we care about:\n",
        "exported_names = [\"predict\"]"
      ],
      "execution_count": 7,
      "outputs": []
    },
    {
      "cell_type": "code",
      "metadata": {
        "id": "G7v-2EbjyggO"
      },
      "source": [
        "#@markdown ### Backend Configuration\n",
        "\n",
        "backend_choice = \"iree_vmla (CPU)\" #@param [ \"iree_vmla (CPU)\", \"iree_llvmaot (CPU)\", \"iree_vulkan (GPU/SwiftShader)\" ]\n",
        "backend_choice = backend_choice.split(\" \")[0]\n",
        "backend = module_utils.BackendInfo(backend_choice)"
      ],
      "execution_count": 8,
      "outputs": []
    },
    {
      "cell_type": "code",
      "metadata": {
        "id": "IDHI7h3khJr9",
        "outputId": "2d4117fb-f1d4-4788-8ad4-cd50bdf0e5a5",
        "colab": {
          "base_uri": "https://localhost:8080/",
          "height": 459
        }
      },
      "source": [
        "#@title Compile the mhlo MLIR to an IREE backend and prepare a context to execute it\n",
        "\n",
        "iree_module = module_utils.IreeCompiledModule.create_from_instance(\n",
        "    inference_module, backend, exported_names, ARTIFACTS_DIR)\n",
        "\n",
        "print(\"* Module compiled! See intermediate .mlir files in\", ARTIFACTS_DIR, \"*\")"
      ],
      "execution_count": 9,
      "outputs": [
        {
          "output_type": "stream",
          "text": [
            "WARNING:tensorflow:AutoGraph could not transform <function <lambda> at 0x0000015E0A89D160> and will run it as-is.\n",
            "Cause: could not parse the source code:\n",
            "\n",
            "])(lambda x: tf_model.call(x, training=False))\n",
            "\n",
            "This error may be avoided by creating the lambda in a standalone statement.\n",
            "\n",
            "To silence this warning, decorate the function with @tf.autograph.experimental.do_not_convert\n",
            "WARNING: AutoGraph could not transform <function <lambda> at 0x0000015E0A89D160> and will run it as-is.\n",
            "Cause: could not parse the source code:\n",
            "\n",
            "])(lambda x: tf_model.call(x, training=False))\n",
            "\n",
            "This error may be avoided by creating the lambda in a standalone statement.\n",
            "\n",
            "To silence this warning, decorate the function with @tf.autograph.experimental.do_not_convert\n",
            "WARNING:tensorflow:From c:\\users\\scott\\scoop\\apps\\python\\current\\lib\\site-packages\\tensorflow\\python\\training\\tracking\\tracking.py:111: Model.state_updates (from tensorflow.python.keras.engine.training) is deprecated and will be removed in a future version.\n",
            "Instructions for updating:\n",
            "This property should not be used in TensorFlow 2.0, as updates are applied automatically.\n",
            "WARNING:tensorflow:From c:\\users\\scott\\scoop\\apps\\python\\current\\lib\\site-packages\\tensorflow\\python\\training\\tracking\\tracking.py:111: Layer.updates (from tensorflow.python.keras.engine.base_layer) is deprecated and will be removed in a future version.\n",
            "Instructions for updating:\n",
            "This property should not be used in TensorFlow 2.0, as updates are applied automatically.\n",
            "INFO:tensorflow:Assets written to: C:\\Users\\Scott\\AppData\\Local\\Temp\\tmpd667eaqu\\assets\n",
            "* Module compiled! See intermediate .mlir files in C:\\Users\\Scott\\AppData\\Local\\Temp\\iree\\modules *\n"
          ],
          "name": "stdout"
        },
        {
          "output_type": "stream",
          "text": [
            "Created IREE driver vmla: <pyiree.rt.binding.HalDriver object at 0x0000015E0AB1D570>\n",
            "SystemContext driver=<pyiree.rt.binding.HalDriver object at 0x0000015E0AB1D570>\n"
          ],
          "name": "stderr"
        }
      ]
    },
    {
      "cell_type": "code",
      "metadata": {
        "id": "S2FYao92Xd6r",
        "outputId": "734f8b72-e752-43c4-efb8-4a301f8d8624",
        "colab": {
          "base_uri": "https://localhost:8080/",
          "height": 297
        }
      },
      "source": [
        "#@title Execute the compiled module and compare the results with TensorFlow\n",
        "\n",
        "# Invoke the 'predict' function with a single image as an argument\n",
        "iree_prediction = iree_module.predict(x_train[sample_index][None, :])[0]\n",
        "tf_prediction = tf_model.predict(x_train[sample_index][None, :])[0]\n",
        "error = tf_prediction - iree_prediction\n",
        "\n",
        "fig, axs = plt.subplots(1, 2)\n",
        "fig.set_figwidth(12)\n",
        "\n",
        "ax = axs[0]\n",
        "ax.plot(iree_prediction, linewidth=2, label=backend.backend_name)\n",
        "ax.plot(tf_prediction, linewidth=2, label=\"tf\")\n",
        "\n",
        "ax.set_title(\"Predictions\")\n",
        "ax.set_ylabel(\"Softmax 'Probability'\")\n",
        "ax.set_xlabel(\"Digit\")\n",
        "ax.set_ylim(0, 1)\n",
        "ax.set_xlim(0, 9)\n",
        "ax.legend(frameon=True)\n",
        "\n",
        "\n",
        "ax = axs[1]\n",
        "ax.plot(error)\n",
        "\n",
        "ax.set_title(\"Error\")\n",
        "ax.set_ylabel(\"Numerical between TF and IREE\")\n",
        "ax.set_xlabel(\"Digit\")\n",
        "ylim = 1.25 * np.max(np.abs(error))\n",
        "ax.set_ylim(-ylim, ylim)\n",
        "ax.set_xlim(0, 9)\n",
        "\n",
        "fig.tight_layout()"
      ],
      "execution_count": 10,
      "outputs": [
        {
          "output_type": "display_data",
          "data": {
            "text/plain": [
              "<Figure size 864x288 with 2 Axes>"
            ],
            "image/png": "[encoded data removed]"
          },
          "metadata": {
            "tags": []
          }
        }
      ]
    }
  ]
}
